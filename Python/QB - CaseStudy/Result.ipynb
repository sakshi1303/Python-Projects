{
 "cells": [
  {
   "cell_type": "code",
   "execution_count": 1,
   "metadata": {},
   "outputs": [],
   "source": [
    "import pandas as pd\n",
    "import json"
   ]
  },
  {
   "cell_type": "code",
   "execution_count": 2,
   "metadata": {},
   "outputs": [],
   "source": [
    "df_timesheets = pd.read_csv('timesheets.csv', sep = '|')\n",
    "df_equipment = pd.read_csv('equipment_lu.csv', sep = '|')"
   ]
  },
  {
   "cell_type": "markdown",
   "metadata": {},
   "source": [
    "### Timesheets DataFrame "
   ]
  },
  {
   "cell_type": "code",
   "execution_count": 8,
   "metadata": {},
   "outputs": [
    {
     "name": "stdout",
     "output_type": "stream",
     "text": [
      "   Unnamed: 0  clock_off_date_time   clock_on_date_time    fname     lname  \\\n",
      "0           0  2017-06-17 15:04:13  2017-06-17 14:00:18     Dawn      Pugh   \n",
      "1           1  2017-12-11 14:50:26  2017-12-11 13:10:17    Tracy     Ellis   \n",
      "2           2  2017-06-06 17:29:16  2017-06-06 14:45:05  Phillip  Robinson   \n",
      "3           3  2017-09-12 16:15:30  2017-09-12 14:38:19   Marian      Page   \n",
      "4           4  2017-05-19 16:31:30  2017-05-19 10:06:04  Rebecca     Wells   \n",
      "\n",
      "   person_id  rate  \n",
      "0  296489757   300  \n",
      "1  350777513   200  \n",
      "2  855983960  1000  \n",
      "3  487954983   100  \n",
      "4   18566746   600  \n"
     ]
    }
   ],
   "source": [
    "print(df_timesheets.head(5))"
   ]
  },
  {
   "cell_type": "markdown",
   "metadata": {},
   "source": [
    "### Equipment DataFrame"
   ]
  },
  {
   "cell_type": "code",
   "execution_count": 9,
   "metadata": {},
   "outputs": [
    {
     "name": "stdout",
     "output_type": "stream",
     "text": [
      "   Unnamed: 0          eq_id      model\n",
      "0           0  1-70195-622-5       BTl9\n",
      "1           1            NaN    BOT-301\n",
      "2           2  1-226-97624-7       BTl9\n",
      "3           3  0-407-62895-9  BOT-001v2\n",
      "4           4  1-83918-874-X    BOT-001\n"
     ]
    }
   ],
   "source": [
    "print(df_equipment.head(5))"
   ]
  },
  {
   "cell_type": "markdown",
   "metadata": {},
   "source": [
    "### Machine Transaction Json to DataFrame"
   ]
  },
  {
   "cell_type": "code",
   "execution_count": 10,
   "metadata": {},
   "outputs": [
    {
     "name": "stdout",
     "output_type": "stream",
     "text": [
      "           eq_id operation.activity operation.unit operation.volume  \\\n",
      "0  1-59767-374-9        formulation             ml               10   \n",
      "1  0-492-98861-7        formulation             ml               38   \n",
      "2  0-452-41582-9           bottling             ml               14   \n",
      "3  0-318-89607-9        formulation             ml               12   \n",
      "4  1-200-78308-5        formulation             ml               11   \n",
      "\n",
      "    operator transaction_date  \n",
      "0  ahodgs095       01.01.2017  \n",
      "1  kbartl138       01.01.2017  \n",
      "2  dpayne980       01.01.2017  \n",
      "3  ahodgs095       01.01.2017  \n",
      "4  cbuckl520       01.01.2017  \n"
     ]
    }
   ],
   "source": [
    "from pandas.io.json import json_normalize\n",
    "df_machine = pd.read_json('machine_transaction.json', orient = 'records')\n",
    "with open('machine_transaction.json') as f:\n",
    "    jdata = json.load(f)\n",
    "#print(type(jdata))\n",
    "df_res = json_normalize(jdata, None, None)\n",
    "print(df_res.head())"
   ]
  },
  {
   "cell_type": "markdown",
   "metadata": {},
   "source": [
    "##### Machine Transaction DataFrame joined with Equipment DataFrame based on eq_id"
   ]
  },
  {
   "cell_type": "code",
   "execution_count": 11,
   "metadata": {},
   "outputs": [
    {
     "name": "stdout",
     "output_type": "stream",
     "text": [
      "           eq_id operation.activity operation.unit operation.volume  \\\n",
      "0  1-59767-374-9        formulation             ml               10   \n",
      "1  1-59767-374-9            milling              g               30   \n",
      "2  1-59767-374-9        formulation             ml               38   \n",
      "3  1-59767-374-9           bottling             ml               10   \n",
      "4  1-59767-374-9            milling              g               14   \n",
      "\n",
      "    operator transaction_date  Unnamed: 0   model  \n",
      "0  ahodgs095       01.01.2017          49  AM-953  \n",
      "1  bwatso571       01.01.2017          49  AM-953  \n",
      "2  smistr465       01.06.2017          49  AM-953  \n",
      "3  jbooth486       01.07.2017          49  AM-953  \n",
      "4  jthoms547       01.08.2017          49  AM-953  \n"
     ]
    }
   ],
   "source": [
    "df_final = df_res.merge(df_equipment, on = 'eq_id')\n",
    "print(df_final.head())"
   ]
  },
  {
   "cell_type": "markdown",
   "metadata": {},
   "source": [
    "##### This dataframe can be joined with Timesheets DataFrame based first & last name using regular expression and transaction date"
   ]
  },
  {
   "cell_type": "code",
   "execution_count": null,
   "metadata": {},
   "outputs": [],
   "source": []
  }
 ],
 "metadata": {
  "kernelspec": {
   "display_name": "Python 3",
   "language": "python",
   "name": "python3"
  },
  "language_info": {
   "codemirror_mode": {
    "name": "ipython",
    "version": 3
   },
   "file_extension": ".py",
   "mimetype": "text/x-python",
   "name": "python",
   "nbconvert_exporter": "python",
   "pygments_lexer": "ipython3",
   "version": "3.6.5"
  }
 },
 "nbformat": 4,
 "nbformat_minor": 2
}
